{
 "cells": [
  {
   "metadata": {
    "ExecuteTime": {
     "end_time": "2025-01-24T15:01:25.994594Z",
     "start_time": "2025-01-24T15:01:25.984012Z"
    }
   },
   "cell_type": "code",
   "source": [
    "a =\"\"\"Artificial intelligence (AI), in its broadest sense, is intelligence exhibited by machines, particularly computer systems. It is a field of research in computer science that develops and studies methods and software that enable machines to perceive their environment and use learning and intelligence to take actions that maximize their chances of achieving defined goals.[1] Such machines may be called AIs.\n",
    "\n",
    "High-profile applications of AI include advanced web search engines (e.g., Google Search); recommendation systems (used by YouTube, Amazon, and Netflix); virtual assistants (e.g., Google Assistant, Siri, and Alexa); autonomous vehicles (e.g., Waymo); generative and creative tools (e.g., ChatGPT and AI art); and superhuman play and analysis in strategy games (e.g., chess and Go). However, many AI applications are not perceived as AI: \"A lot of cutting edge AI has filtered into general applications, often without being called AI because once something becomes useful enough and common enough it's not labeled AI anymore.\"[2][3]\n",
    "\n",
    "Various subfields of AI research are centered around particular goals and the use of particular tools. The traditional goals of AI research include reasoning, knowledge representation, planning, learning, natural language processing, perception, and support for robotics.[a] General intelligence—the ability to complete any task performed by a human on an at least equal level—is among the field's long-term goals.[4] To reach these goals, AI researchers have adapted and integrated a wide range of techniques, including search and mathematical optimization, formal logic, artificial neural networks, and methods based on statistics, operations research, and economics.[b] AI also draws upon psychology, linguistics, philosophy, neuroscience, and other fields.[5]\n",
    "\n",
    "Artificial intelligence was founded as an academic discipline in 1956,[6] and the field went through multiple cycles of optimism throughout its history,[7][8] followed by periods of disappointment and loss of funding, known as AI winters.[9][10] Funding and interest vastly increased after 2012 when deep learning outperformed previous AI techniques.[11] This growth accelerated further after 2017 with the transformer architecture,[12] and by the early 2020s many billions of dollars were being invested in AI and the field experienced rapid ongoing progress in what has become known as the AI boom. The emergence of advanced generative AI in the midst of the AI boom and its ability to create and modify content exposed several unintended consequences and harms in the present and raised concerns about the risks of AI and its long-term effects in the future, prompting discussions about regulatory policies to ensure the safety and benefits of the technology.\"\"\""
   ],
   "id": "51806c74f0157d07",
   "outputs": [],
   "execution_count": 37
  },
  {
   "metadata": {
    "ExecuteTime": {
     "end_time": "2025-01-24T15:02:49.383369Z",
     "start_time": "2025-01-24T15:02:49.323252Z"
    }
   },
   "cell_type": "code",
   "source": [
    "a = a.lower()\n",
    "a = a.replace(\".\" , \" \")\n",
    "a = a.replace(\"(\" , \"\")\n",
    "a = a.replace(\")\" , \"\")\n",
    "a = a.replace(\"[\" , \"\")\n",
    "a = a.replace(\"]\" , \"\")\n",
    "a = a.replace(\",\" , \"\")\n",
    "a = a.replace(\";\" , \"\")\n",
    "a = a.replace(\"'\" , \"\")\n",
    "split = a.split(\" \")\n",
    "\n",
    "\n",
    "tedad = [0]*len(split)\n",
    "ix = 0\n",
    "iy = 0\n",
    "for word in split:\n",
    "    for y in split:\n",
    "        if word == y:\n",
    "            tedad[ix] += 1\n",
    "    ix += 1\n",
    "res = {key: split.count(key) for key in split}\n",
    "print(res)"
   ],
   "id": "8faa65147c664121",
   "outputs": [
    {
     "name": "stdout",
     "output_type": "stream",
     "text": [
      "{'artificial': 2, 'intelligence': 4, 'ai': 18, 'in': 9, 'its': 5, 'broadest': 1, 'sense': 1, 'is': 2, 'exhibited': 1, 'by': 5, 'machines': 3, 'particularly': 1, 'computer': 2, 'systems': 2, '': 10, 'it': 1, 'a': 4, 'field': 3, 'of': 16, 'research': 4, 'science': 1, 'that': 3, 'develops': 1, 'and': 30, 'studies': 1, 'methods': 2, 'software': 1, 'enable': 1, 'to': 6, 'perceive': 1, 'their': 2, 'environment': 1, 'use': 2, 'learning': 3, 'take': 1, 'actions': 1, 'maximize': 1, 'chances': 1, 'achieving': 1, 'defined': 1, 'goals': 5, '1': 1, 'such': 1, 'may': 1, 'be': 1, 'called': 2, 'ais': 1, '\\n\\nhigh-profile': 1, 'applications': 3, 'include': 2, 'advanced': 2, 'web': 1, 'search': 3, 'engines': 1, 'e': 5, 'g': 5, 'google': 2, 'recommendation': 1, 'used': 1, 'youtube': 1, 'amazon': 1, 'netflix': 1, 'virtual': 1, 'assistants': 1, 'assistant': 1, 'siri': 1, 'alexa': 1, 'autonomous': 1, 'vehicles': 1, 'waymo': 1, 'generative': 2, 'creative': 1, 'tools': 2, 'chatgpt': 1, 'art': 1, 'superhuman': 1, 'play': 1, 'analysis': 1, 'strategy': 1, 'games': 1, 'chess': 1, 'go': 1, 'however': 1, 'many': 2, 'are': 2, 'not': 2, 'perceived': 1, 'as': 4, 'ai:': 1, '\"a': 1, 'lot': 1, 'cutting': 1, 'edge': 1, 'has': 2, 'filtered': 1, 'into': 1, 'general': 2, 'often': 1, 'without': 1, 'being': 2, 'because': 1, 'once': 1, 'something': 1, 'becomes': 1, 'useful': 1, 'enough': 2, 'common': 1, 'labeled': 1, 'anymore': 1, '\"23\\n\\nvarious': 1, 'subfields': 1, 'centered': 1, 'around': 1, 'particular': 2, 'the': 16, 'traditional': 1, 'reasoning': 1, 'knowledge': 1, 'representation': 1, 'planning': 1, 'natural': 1, 'language': 1, 'processing': 1, 'perception': 1, 'support': 1, 'for': 1, 'robotics': 1, 'intelligence—the': 1, 'ability': 2, 'complete': 1, 'any': 1, 'task': 1, 'performed': 1, 'human': 1, 'on': 2, 'an': 2, 'at': 1, 'least': 1, 'equal': 1, 'level—is': 1, 'among': 1, 'fields': 2, 'long-term': 2, '4': 1, 'reach': 1, 'these': 1, 'researchers': 1, 'have': 1, 'adapted': 1, 'integrated': 1, 'wide': 1, 'range': 1, 'techniques': 2, 'including': 1, 'mathematical': 1, 'optimization': 1, 'formal': 1, 'logic': 1, 'neural': 1, 'networks': 1, 'based': 1, 'statistics': 1, 'operations': 1, 'economics': 1, 'b': 1, 'also': 1, 'draws': 1, 'upon': 1, 'psychology': 1, 'linguistics': 1, 'philosophy': 1, 'neuroscience': 1, 'other': 1, '5\\n\\nartificial': 1, 'was': 1, 'founded': 1, 'academic': 1, 'discipline': 1, '19566': 1, 'went': 1, 'through': 1, 'multiple': 1, 'cycles': 1, 'optimism': 1, 'throughout': 1, 'history78': 1, 'followed': 1, 'periods': 1, 'disappointment': 1, 'loss': 1, 'funding': 2, 'known': 2, 'winters': 1, '910': 1, 'interest': 1, 'vastly': 1, 'increased': 1, 'after': 2, '2012': 1, 'when': 1, 'deep': 1, 'outperformed': 1, 'previous': 1, '11': 1, 'this': 1, 'growth': 1, 'accelerated': 1, 'further': 1, '2017': 1, 'with': 1, 'transformer': 1, 'architecture12': 1, 'early': 1, '2020s': 1, 'billions': 1, 'dollars': 1, 'were': 1, 'invested': 1, 'experienced': 1, 'rapid': 1, 'ongoing': 1, 'progress': 1, 'what': 1, 'become': 1, 'boom': 2, 'emergence': 1, 'midst': 1, 'create': 1, 'modify': 1, 'content': 1, 'exposed': 1, 'several': 1, 'unintended': 1, 'consequences': 1, 'harms': 1, 'present': 1, 'raised': 1, 'concerns': 1, 'about': 2, 'risks': 1, 'effects': 1, 'future': 1, 'prompting': 1, 'discussions': 1, 'regulatory': 1, 'policies': 1, 'ensure': 1, 'safety': 1, 'benefits': 1, 'technology': 1}\n"
     ]
    }
   ],
   "execution_count": 41
  },
  {
   "metadata": {},
   "cell_type": "code",
   "outputs": [],
   "execution_count": null,
   "source": "",
   "id": "a2d066425059dc25"
  }
 ],
 "metadata": {
  "kernelspec": {
   "display_name": "Python 3",
   "language": "python",
   "name": "python3"
  },
  "language_info": {
   "codemirror_mode": {
    "name": "ipython",
    "version": 2
   },
   "file_extension": ".py",
   "mimetype": "text/x-python",
   "name": "python",
   "nbconvert_exporter": "python",
   "pygments_lexer": "ipython2",
   "version": "2.7.6"
  }
 },
 "nbformat": 4,
 "nbformat_minor": 5
}
